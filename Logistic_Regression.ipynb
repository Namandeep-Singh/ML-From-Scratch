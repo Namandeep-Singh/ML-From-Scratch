{
 "cells": [
  {
   "cell_type": "code",
   "execution_count": 11,
   "id": "5cbb9242",
   "metadata": {},
   "outputs": [],
   "source": [
    "import numpy as np\n",
    "import random\n",
    "\n",
    "\n",
    "class Logistic:\n",
    "  def generator(self,n,m,success_prob):\n",
    "    X=np.random.randn(n,m+1)\n",
    "\n",
    "    X[0]=1\n",
    "    w=np.random.randn(m+1,1) \n",
    "    noise =self.bernoulli_noise(success_prob,n)  \n",
    "    y=self.sigmoid(X,w)\n",
    "    y=y+noise\n",
    "    predictions=self.y_calc(y)\n",
    "    y=np.reshape(predictions,(len(predictions),1))\n",
    "    return X,y,w\n",
    "\n",
    "  def y_calc(self,y): \n",
    "    predictions=[]\n",
    "    for i in np.nditer(y): \n",
    "      if i>0.5:\n",
    "        predictions.append(float(1))\n",
    "      else:\n",
    "        predictions.append(float(0))\n",
    "    return predictions\n",
    "\n",
    "  def logistic_regression(self,X,Y,epochs,threshold,learning_rate,lambd=None,regularizer=None): \n",
    "\n",
    "    m=X.shape[1]\n",
    "    n=X.shape[0] \n",
    "    beta = np.random.rand(m,1)\n",
    "\n",
    "    if lambd==None: \n",
    "      pre_cost=float('inf')\n",
    "\n",
    "      for i in range(epochs):\n",
    "          pred_y=self.sigmoid(X,beta)\n",
    "          cost=self.Cross_Entropy_loss(n,y,pred_y)\n",
    "          if abs(pre_cost-cost)<=threshold:\n",
    "              break\n",
    "          else:\n",
    "              pre_cost=cost\n",
    "              gradient=self.gradient_Cross_Entropy_loss(X,Y,pred_y,n)\n",
    "              beta=beta-(float(learning_rate)*gradient)\n",
    "      return pre_cost,beta\n",
    "\n",
    "    else:\n",
    "      if regularizer=='l1':\n",
    "        return self.L1_regularlizer(X=X,Y=Y,n=n,epochs=epochs,threshold=threshold,learning_rate=learning_rate,lambd=lambd,beta=beta)\n",
    "       \n",
    "      elif regularizer=='l2':\n",
    "        return self.L2_regularlizer(X=X,Y=Y,n=n,epochs=epochs,threshold=threshold,learning_rate=learning_rate,lambd=lambd,beta=beta)\n",
    "        \n",
    "\n",
    "\n",
    "  def L1_regularlizer(self,X,Y,n,epochs,threshold,learning_rate,lambd,beta):\n",
    "    pre_cost=float('inf')\n",
    "    for i in range(epochs):\n",
    "      pred_y=self.sigmoid(X,beta)\n",
    "      cost=self.cost_fun_L1(y,pred_y,n,lambd,beta[1:])\n",
    "      if abs(pre_cost-cost)<=threshold:\n",
    "              break\n",
    "      else:\n",
    "        pre_cost=cost\n",
    "        gradient=self.gradient_descent_L1(X,y,pred_y,n,lambd,beta[1:])\n",
    "        beta=beta-(float(learning_rate)*gradient)\n",
    "    return pre_cost,beta\n",
    "\n",
    "  def L2_regularlizer(self,X,Y,n,epochs,threshold,learning_rate,lambd,beta):\n",
    "    pre_cost=float('inf')\n",
    "    for i in range(epochs):\n",
    "      pred_y=self.sigmoid(X,beta)\n",
    "      cost=self.cost_fun_L2(y,pred_y,n,lambd,beta[1:])\n",
    "      if abs(pre_cost-cost)<=threshold:\n",
    "              break\n",
    "      else:\n",
    "        pre_cost=cost\n",
    "        gradient=self.gradient_descent_L2(X,y,pred_y,n,lambd,beta[1:])\n",
    "        beta=beta-(float(learning_rate)*gradient)\n",
    "    return pre_cost,beta\n",
    "\n",
    "  def sigmoid_fun(self,z):\n",
    "    return 1/(1+np.exp(-z))\n",
    "  \n",
    "\n",
    "  def cost_fun_L1(self,y,pred_y,n,lambd,beta):\n",
    "    cost=(np.sum(-(y*np.log(pred_y))-((1-y)*np.log(1-pred_y)))/n) + (lambd/n)*np.linalg.norm(beta,1)\n",
    "    return cost\n",
    "  \n",
    "  def cost_fun_L2(self,y,pred_y,n,lambd,beta):\n",
    "    cost=(np.sum(-(y*np.log(pred_y))-((1-y)*np.log(1-pred_y)))/n)+ (lambd/(2*n))*(np.sum(beta*beta))\n",
    "    return cost\n",
    "\n",
    "  def gradient_descent_L1(self,x,y,pred_y,n,lambd,beta):\n",
    "    grad_0=np.array(np.sum(pred_y-y)/n).reshape(1,1)\n",
    "    new_lambd=lambd*(abs(beta)/beta)\n",
    "    grad_1=(np.matmul(x.T[1:],(pred_y-y))/n) +(new_lambd/n)\n",
    "    gradient=np.concatenate((grad_0,grad_1),axis=0)\n",
    "    return gradient\n",
    "  \n",
    "  def gradient_descent_L2(self,x,y,pred_y,n,lambd,beta):\n",
    "    grad_0=np.array(np.sum(pred_y-y)/n).reshape(1,1)\n",
    "    grad_1=np.matmul(x.T[1:],(pred_y-y))/n+(lambd*beta)/n\n",
    "    gradient=np.concatenate((grad_0,grad_1),axis=0)\n",
    "    return gradient\n",
    "\n",
    "  def sigmoid(self,x,beta):\n",
    "    return 1/(1+np.exp(-(np.matmul(x,beta))))\n",
    "\n",
    "  def bernoulli_noise(self,success_prob,n):\n",
    "    noise=np.random.binomial(1, success_prob, n) \n",
    "    noise=np.reshape(noise, (n, 1)) # reshaping it to (n,1)\n",
    "    return noise\n",
    "\n",
    "  def Cross_Entropy_loss(self,m,y,predicted):\n",
    "    return (-1/m)*(np.sum((y.T*np.log(predicted)) + ((1-y).T*(np.log(1-predicted)))))\n",
    "\n",
    "  def gradient_Cross_Entropy_loss(self,X,Y,pred_y,n_sample):\n",
    "   gradient=(np.matmul(X.T,(pred_y-Y)))/n_sample\n",
    "   return gradient\n",
    "\n",
    "\n",
    "\n"
   ]
  },
  {
   "cell_type": "code",
   "execution_count": 12,
   "id": "0e7aeaa0",
   "metadata": {},
   "outputs": [
    {
     "data": {
      "text/plain": [
       "array([[0.],\n",
       "       [0.],\n",
       "       [1.],\n",
       "       [1.]])"
      ]
     },
     "execution_count": 12,
     "metadata": {},
     "output_type": "execute_result"
    }
   ],
   "source": [
    "df=Logistic()\n",
    "X,y,w=df.generator(4,4,0.1)\n",
    "y"
   ]
  },
  {
   "cell_type": "code",
   "execution_count": 13,
   "id": "b1ab7f0e",
   "metadata": {},
   "outputs": [
    {
     "data": {
      "text/plain": [
       "3.187905641020096"
      ]
     },
     "execution_count": 13,
     "metadata": {},
     "output_type": "execute_result"
    }
   ],
   "source": [
    "cost,s=df.logistic_regression(X,y,10000,0.0000005,.001)\n",
    "cost"
   ]
  },
  {
   "cell_type": "code",
   "execution_count": 14,
   "id": "88ab78ce",
   "metadata": {},
   "outputs": [
    {
     "data": {
      "text/plain": [
       "0.7172764542235939"
      ]
     },
     "execution_count": 14,
     "metadata": {},
     "output_type": "execute_result"
    }
   ],
   "source": [
    "cost,s=df.logistic_regression(X,y,10000,0.0000005,.001,0.7,'l1')\n",
    "cost"
   ]
  },
  {
   "cell_type": "code",
   "execution_count": 15,
   "id": "c5a5d8bc",
   "metadata": {},
   "outputs": [
    {
     "data": {
      "text/plain": [
       "0.5522180240810947"
      ]
     },
     "execution_count": 15,
     "metadata": {},
     "output_type": "execute_result"
    }
   ],
   "source": [
    "cost,s=df.logistic_regression(X,y,10000,0.0000005,.001,0.7,'l2')\n",
    "cost"
   ]
  },
  {
   "cell_type": "code",
   "execution_count": null,
   "id": "b531ce9b",
   "metadata": {},
   "outputs": [],
   "source": []
  }
 ],
 "metadata": {
  "kernelspec": {
   "display_name": "Python 3",
   "language": "python",
   "name": "python3"
  },
  "language_info": {
   "codemirror_mode": {
    "name": "ipython",
    "version": 3
   },
   "file_extension": ".py",
   "mimetype": "text/x-python",
   "name": "python",
   "nbconvert_exporter": "python",
   "pygments_lexer": "ipython3",
   "version": "3.8.12"
  },
  "latex_envs": {
   "LaTeX_envs_menu_present": true,
   "autoclose": false,
   "autocomplete": true,
   "bibliofile": "biblio.bib",
   "cite_by": "apalike",
   "current_citInitial": 1,
   "eqLabelWithNumbers": true,
   "eqNumInitial": 1,
   "hotkeys": {
    "equation": "Ctrl-E",
    "itemize": "Ctrl-I"
   },
   "labels_anchors": false,
   "latex_user_defs": false,
   "report_style_numbering": false,
   "user_envs_cfg": false
  }
 },
 "nbformat": 4,
 "nbformat_minor": 5
}
