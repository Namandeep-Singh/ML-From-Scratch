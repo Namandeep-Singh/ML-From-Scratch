import numpy as np
import numpy as np
class linear_regression:

  def generator(self,n,m,sigma): #m rows and n+1 we
      
      x = np.random.rand(n, m+1) # INPUT data
     
      e=np.random.normal(0,sigma,(n,1))# gaussian distribution

      x[:,0]=1
     
      beta=np.random.rand(m+1,1)
      
      y=np.matmul(x,beta)+e
     
      return x,y,beta

  def cost(self,pred_y,y,n):
      cost=(1/(2*n))*np.sum((pred_y-y)**2)
      return cost

  

  def gradient(self,x,y,pred_y,n):
      gradient=(-2/n)*np.matmul((y-pred_y).T,x)
      return gradient


  def regression(self,x,y,epochs,threshold):
      learning_rate=0.001

      n=x.shape[0]
      m=x.shape[1]

      weight=np.random.rand(m,1)*learning_rate

      
      pre_cost=float('inf') #initial cost

      for i in range(epochs):

          pred_y = np.matmul(x,weight)
          cost=self.cost(pred_y,y,n)

          if abs(pre_cost-cost).all()<=threshold:
              break

          pre_cost=cost  #updating the cost value

          gd=self.gradient(x,y,pred_y,n)# finding gradient

          weight=weight-learning_rate*gd # updating weights
          
      return pre_cost,weight

obj1=linear_regression()


# solution1
X,y,beta=obj1.generator(2,4,10) # ex standard deviation 1 

#solution2 
finalcost,weight=obj1.regression(X,y,500,0.002) #500 iterations and 0.02 threshold

print(finalcost)
